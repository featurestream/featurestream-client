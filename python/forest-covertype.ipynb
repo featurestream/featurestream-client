{
 "metadata": {
  "name": ""
 },
 "nbformat": 3,
 "nbformat_minor": 0,
 "worksheets": [
  {
   "cells": [
    {
     "cell_type": "markdown",
     "metadata": {},
     "source": [
      "# Getting started\n",
      "The following example opens a stream, asynchronously adds some events from a csv file, and retrieves a prediction.\n",
      "Import the library and give it your access key:"
     ]
    },
    {
     "cell_type": "code",
     "collapsed": true,
     "input": [
      "import featurestream as fs\n",
      "fs.set_endpoint('http://127.0.0.1:8088/mungio/api')\n",
      "fs.set_access('your_access_key')\n",
      "# do a quick health check on the service\n",
      "print 'healthy=',fs.check_health()"
     ],
     "language": "python",
     "metadata": {},
     "outputs": [
      {
       "output_type": "stream",
       "stream": "stdout",
       "text": [
        "set endpoint to http://127.0.0.1:8088/mungio/api\n",
        "set access key to your_access_key\n",
        "healthy= "
       ]
      },
      {
       "output_type": "stream",
       "stream": "stdout",
       "text": [
        "True\n"
       ]
      }
     ],
     "prompt_number": 1
    },
    {
     "cell_type": "markdown",
     "metadata": {},
     "source": [
      "Get the covertype dataset: download `covtype.data.gz` from the repository at http://archive.ics.uci.edu/ml/machine-learning-databases/covtype/\n",
      "\n",
      "Import the `featurestream.csv` library and get an iterator of events from the CSV file (note that we handle gzipped files):"
     ]
    },
    {
     "cell_type": "code",
     "collapsed": false,
     "input": [
      "import featurestream.csv as csv\n",
      "events = csv.csv_iterator('covtype.data.gz')"
     ],
     "language": "python",
     "metadata": {},
     "outputs": [
      {
       "output_type": "stream",
       "stream": "stdout",
       "text": [
        "guessing types..\n",
        "types="
       ]
      },
      {
       "output_type": "stream",
       "stream": "stdout",
       "text": [
        " [('0', 'NUMERIC'), ('1', 'NUMERIC'), ('2', 'NUMERIC'), ('3', 'NUMERIC'), ('4', 'NUMERIC'), ('5', 'NUMERIC'), ('6', 'NUMERIC'), ('7', 'NUMERIC'), ('8', 'NUMERIC'), ('9', 'NUMERIC'), ('10', 'NUMERIC'), ('11', 'NUMERIC'), ('12', 'NUMERIC'), ('13', 'NUMERIC'), ('14', 'NUMERIC'), ('15', 'NUMERIC'), ('16', 'NUMERIC'), ('17', 'NUMERIC'), ('18', 'NUMERIC'), ('19', 'NUMERIC'), ('20', 'NUMERIC'), ('21', 'NUMERIC'), ('22', 'NUMERIC'), ('23', 'NUMERIC'), ('24', 'NUMERIC'), ('25', 'NUMERIC'), ('26', 'NUMERIC'), ('27', 'NUMERIC'), ('28', 'NUMERIC'), ('29', 'NUMERIC'), ('30', 'NUMERIC'), ('31', 'NUMERIC'), ('32', 'NUMERIC'), ('33', 'NUMERIC'), ('34', 'NUMERIC'), ('35', 'NUMERIC'), ('36', 'NUMERIC'), ('37', 'NUMERIC'), ('38', 'NUMERIC'), ('39', 'NUMERIC'), ('40', 'NUMERIC'), ('41', 'NUMERIC'), ('42', 'NUMERIC'), ('43', 'NUMERIC'), ('44', 'NUMERIC'), ('45', 'NUMERIC'), ('46', 'NUMERIC'), ('47', 'NUMERIC'), ('48', 'NUMERIC'), ('49', 'NUMERIC'), ('50', 'NUMERIC'), ('51', 'NUMERIC'), ('52', 'NUMERIC'), ('53', 'NUMERIC'), ('54', 'NUMERIC')]\n"
       ]
      }
     ],
     "prompt_number": 2
    },
    {
     "cell_type": "markdown",
     "metadata": {},
     "source": [
      "The parser automatically tries to infer types based on a sample of the file. Since there's no header, the parser will create numbered column fields.\n",
      "\n",
      "Since all fields are double values, they are parsed as numeric fields. Looking at http://archive.ics.uci.edu/ml/machine-learning-databases/covtype/covtype.info, the first 10 fields should be numeric and the rest categoric. The target should also be categoric.\n",
      "\n",
      "Define the types we want (this is a bit tedious here, but we'll add tools to make this easier in a future release!)"
     ]
    },
    {
     "cell_type": "code",
     "collapsed": false,
     "input": [
      "types = {\n",
      "         '0':'NUMERIC',\n",
      "         '1':'NUMERIC',\n",
      "         '2':'NUMERIC',\n",
      "         '3':'NUMERIC',\n",
      "         '4':'NUMERIC',\n",
      "         '5':'NUMERIC',\n",
      "         '6':'NUMERIC',\n",
      "         '7':'NUMERIC',\n",
      "         '8':'NUMERIC',\n",
      "         '9':'NUMERIC',\n",
      "         '10':'NUMERIC',\n",
      "         '11':'CATEGORIC',\n",
      "         '12':'CATEGORIC',\n",
      "         '13':'CATEGORIC',\n",
      "         '14':'CATEGORIC',\n",
      "         '15':'CATEGORIC',\n",
      "         '16':'CATEGORIC',\n",
      "         '17':'CATEGORIC',\n",
      "         '18':'CATEGORIC',\n",
      "         '19':'CATEGORIC',\n",
      "         '20':'CATEGORIC',\n",
      "         '21':'CATEGORIC',\n",
      "         '22':'CATEGORIC',\n",
      "         '23':'CATEGORIC',\n",
      "         '24':'CATEGORIC',\n",
      "         '25':'CATEGORIC',\n",
      "         '26':'CATEGORIC',\n",
      "         '27':'CATEGORIC',\n",
      "         '28':'CATEGORIC',\n",
      "         '29':'CATEGORIC',\n",
      "         '30':'CATEGORIC',\n",
      "         '31':'CATEGORIC',\n",
      "         '32':'CATEGORIC',\n",
      "         '33':'CATEGORIC',\n",
      "         '34':'CATEGORIC',\n",
      "         '35':'CATEGORIC',\n",
      "         '36':'CATEGORIC',\n",
      "         '37':'CATEGORIC',\n",
      "         '38':'CATEGORIC',\n",
      "         '39':'CATEGORIC',\n",
      "         '40':'CATEGORIC',\n",
      "         '41':'CATEGORIC',\n",
      "         '42':'CATEGORIC',\n",
      "         '43':'CATEGORIC',\n",
      "         '44':'CATEGORIC',\n",
      "         '45':'CATEGORIC',\n",
      "         '46':'CATEGORIC',\n",
      "         '47':'CATEGORIC',\n",
      "         '48':'CATEGORIC',\n",
      "         '49':'CATEGORIC',\n",
      "         '50':'CATEGORIC',\n",
      "         '51':'CATEGORIC',\n",
      "         '52':'CATEGORIC',\n",
      "         '53':'CATEGORIC',\n",
      "         '54':'CATEGORIC'\n",
      "}       "
     ],
     "language": "python",
     "metadata": {},
     "outputs": [],
     "prompt_number": 3
    },
    {
     "cell_type": "markdown",
     "metadata": {},
     "source": [
      "Start a new stream with the target column and its type (the type of the target is used to decide between regression and classification in the case where the types haven't been explicitly declared as we have above)."
     ]
    },
    {
     "cell_type": "code",
     "collapsed": false,
     "input": [
      "stream = fs.start_stream(targets={'54':'CATEGORIC'})\n",
      "stream"
     ],
     "language": "python",
     "metadata": {},
     "outputs": [
      {
       "metadata": {},
       "output_type": "pyout",
       "prompt_number": 4,
       "text": [
        "Stream[stream_id=7862194163313609196, targets={'54': 'CATEGORIC'}, endpoint=http://127.0.0.1:8088/mungio/api]"
       ]
      }
     ],
     "prompt_number": 4
    },
    {
     "cell_type": "markdown",
     "metadata": {},
     "source": [
      "Let's push the events asynchronously to the stream."
     ]
    },
    {
     "cell_type": "code",
     "collapsed": false,
     "input": [
      "t=stream.train_iterator(events,batch=1000)"
     ],
     "language": "python",
     "metadata": {},
     "outputs": [],
     "prompt_number": 5
    },
    {
     "cell_type": "markdown",
     "metadata": {},
     "source": [
      "See if it predicts one of the original events correctly:"
     ]
    },
    {
     "cell_type": "markdown",
     "metadata": {},
     "source": [
      "Featurestream's engine is very good at handling missing values, or noisy data. In particular, for missing values, it can 'integrate them out' to get predictions. For example, the following (predicting with the empty event) returns the distribution of the entire stream:"
     ]
    },
    {
     "cell_type": "code",
     "collapsed": false,
     "input": [
      "stream.predict_full({})"
     ],
     "language": "python",
     "metadata": {},
     "outputs": [
      {
       "metadata": {},
       "output_type": "pyout",
       "prompt_number": 14,
       "text": [
        "{u'54': {u'1.0': 0.22130878757772296,\n",
        "  u'2.0': 0.6632311120661748,\n",
        "  u'3.0': 0.022565122626449805,\n",
        "  u'4.0': 0.022695242294683025,\n",
        "  u'5.0': 0.02513611982451636,\n",
        "  u'6.0': 0.02244337526930934,\n",
        "  u'7.0': 0.02262024034114377}}"
       ]
      }
     ],
     "prompt_number": 14
    },
    {
     "cell_type": "markdown",
     "metadata": {},
     "source": [
      "So, about 47.7% of events had variable 'type' as 'anomaly' and 52.3% as 'normal', and the average value of variable 'oo' was 0.12. In the future, we can allow returning more full values for numeric targets, including distributions. The ability to leave out missing values makes featurestream very powerful for handling a wide range of real-life data sources."
     ]
    },
    {
     "cell_type": "markdown",
     "metadata": {},
     "source": [
      "Examine which variables are most related to a target variable:"
     ]
    },
    {
     "cell_type": "code",
     "collapsed": false,
     "input": [
      "stream.related_fields('54')"
     ],
     "language": "python",
     "metadata": {},
     "outputs": [
      {
       "metadata": {},
       "output_type": "pyout",
       "prompt_number": 17,
       "text": [
        "[(u'0', 0.5326225551193128),\n",
        " (u'9', 0.2082566832984359),\n",
        " (u'5', 0.1941549820851098),\n",
        " (u'3', 0.017895277430939206),\n",
        " (u'8', 0.009628564663760664)]"
       ]
      }
     ],
     "prompt_number": 17
    },
    {
     "cell_type": "markdown",
     "metadata": {},
     "source": [
      "This returns a distribution over all variables, summing to 1, which describes how strongly each variable contributes to predicting the value of the target variable. This allows you to understand more about the structure of your data. By default, it returns the top 5 variables but you can change this by passing the argument `k=10` (for the top 10) or `k=-1` (for all fields).\n",
      "\n",
      "Examine the stream statistics for one of the targets:"
     ]
    },
    {
     "cell_type": "code",
     "collapsed": false,
     "input": [
      "stream.get_stats()"
     ],
     "language": "python",
     "metadata": {},
     "outputs": [
      {
       "metadata": {},
       "output_type": "pyout",
       "prompt_number": 19,
       "text": [
        "{u'54': {u'accuracy': 0.795191967946453,\n",
        "  u'confusion': {u'1.0': {u'1.0': 10933,\n",
        "    u'2.0': 20689,\n",
        "    u'3.0': 5,\n",
        "    u'4.0': 1,\n",
        "    u'5.0': 325,\n",
        "    u'6.0': 9,\n",
        "    u'7.0': 860},\n",
        "   u'2.0': {u'1.0': 1793,\n",
        "    u'2.0': 102010,\n",
        "    u'3.0': 163,\n",
        "    u'4.0': 23,\n",
        "    u'5.0': 989,\n",
        "    u'6.0': 222,\n",
        "    u'7.0': 268},\n",
        "   u'3.0': {u'3.0': 284, u'4.0': 783, u'5.0': 364, u'6.0': 729},\n",
        "   u'4.0': {u'3.0': 172, u'4.0': 1837, u'5.0': 93, u'6.0': 58},\n",
        "   u'5.0': {u'1.0': 1,\n",
        "    u'2.0': 1211,\n",
        "    u'3.0': 88,\n",
        "    u'4.0': 52,\n",
        "    u'5.0': 1642,\n",
        "    u'6.0': 71,\n",
        "    u'7.0': 4},\n",
        "   u'6.0': {u'3.0': 120, u'4.0': 868, u'5.0': 444, u'6.0': 728},\n",
        "   u'7.0': {u'1.0': 243, u'2.0': 66, u'5.0': 7, u'7.0': 1844}},\n",
        "  u'exp_accuracy': [0.7951919679464516,\n",
        "   0.8266309656124984,\n",
        "   0.8206699109082977,\n",
        "   0.7956361660549678,\n",
        "   0.7524300001723748],\n",
        "  u'n_correct': 119278.0,\n",
        "  u'n_models': 30,\n",
        "  u'n_total': 149999.0,\n",
        "  u'scores': {u'1.0': {u'F1': 0.4775069881201957,\n",
        "    u'precision': 0.33309975016757054,\n",
        "    u'recall': 0.8429452582883578},\n",
        "   u'2.0': {u'F1': 0.8891930057007376,\n",
        "    u'precision': 0.9672128038836424,\n",
        "    u'recall': 0.8228205459121121},\n",
        "   u'3.0': {u'F1': 0.18983957219251338,\n",
        "    u'precision': 0.13148148148148148,\n",
        "    u'recall': 0.34134615384615385},\n",
        "   u'4.0': {u'F1': 0.6418588399720475,\n",
        "    u'precision': 0.850462962962963,\n",
        "    u'recall': 0.5154320987654321},\n",
        "   u'5.0': {u'F1': 0.4736766190682245,\n",
        "    u'precision': 0.5350276963180189,\n",
        "    u'recall': 0.4249482401656315},\n",
        "   u'6.0': {u'F1': 0.36610510435001253,\n",
        "    u'precision': 0.337037037037037,\n",
        "    u'recall': 0.4006604292790314},\n",
        "   u'7.0': {u'F1': 0.7180685358255452,\n",
        "    u'precision': 0.8537037037037037,\n",
        "    u'recall': 0.6196236559139785}},\n",
        "  u'type': u'classification'}}"
       ]
      }
     ],
     "prompt_number": 19
    },
    {
     "cell_type": "markdown",
     "metadata": {},
     "source": [
      "The section below about stats explains what these statistics represent. Featurestream calculates these statistics without you having to do k-fold cross-validation, training/test set splits, and so on. Furthermore, they are computed in near real-time as your stream is ingested.\n",
      "\n",
      "You can also examine the stats for the numeric target:"
     ]
    },
    {
     "cell_type": "markdown",
     "metadata": {},
     "source": [
      "It's a good idea to close the stream once you're done:"
     ]
    },
    {
     "cell_type": "code",
     "collapsed": false,
     "input": [
      "stream.close()"
     ],
     "language": "python",
     "metadata": {},
     "outputs": []
    },
    {
     "cell_type": "markdown",
     "metadata": {},
     "source": [
      "We hope this example gives you a flavor of what featurestream.io can do for you. You've just scratched the surface! See below for some more details about the calls and objects used above, and more information. We will also be updating this document as we improve the service and add more functionality. We'd love to get some more use case examples. Please say [hello@featurestream.io](hello@featurestream.io)"
     ]
    }
   ],
   "metadata": {}
  }
 ]
}