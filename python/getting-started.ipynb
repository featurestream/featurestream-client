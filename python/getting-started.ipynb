{
 "metadata": {
  "name": "getting-started"
 },
 "nbformat": 3,
 "nbformat_minor": 0,
 "worksheets": [
  {
   "cells": [
    {
     "cell_type": "markdown",
     "metadata": {},
     "source": [
      "# Getting started\n",
      "The following example opens a stream, asynchronously adds some events from a csv file, and retrieves a prediction.\n",
      "Import the library and give it your access key:"
     ]
    },
    {
     "cell_type": "code",
     "collapsed": true,
     "input": [
      "import featurestream as fs\n",
      "fs.set_access('your_access_key')\n",
      "fs.set_endpoint('http://api.featurestream.io/api')\n",
      "# do a quick health check on the service\n",
      "print 'healthy=',fs.check_health()"
     ],
     "language": "python",
     "metadata": {},
     "outputs": [
      {
       "output_type": "stream",
       "stream": "stdout",
       "text": [
        "set access key to your_access_key\n",
        "set endpoint to http://api.featurestream.io/api\n",
        "healthy= "
       ]
      },
      {
       "output_type": "stream",
       "stream": "stdout",
       "text": [
        "True\n"
       ]
      }
     ],
     "prompt_number": 21
    },
    {
     "cell_type": "markdown",
     "metadata": {},
     "source": [
      "Start a new stream:"
     ]
    },
    {
     "cell_type": "code",
     "collapsed": false,
     "input": [
      "stream = fs.start_stream(targets={'type':'CATEGORIC','oo':'NUMERIC'})"
     ],
     "language": "python",
     "metadata": {},
     "outputs": [],
     "prompt_number": 4
    },
    {
     "cell_type": "markdown",
     "metadata": {},
     "source": [
      "This should try to create a stream with two targets, one for column `type` with categoric type and one for column `e` with numeric type. Check that the stream was created successfully:"
     ]
    },
    {
     "cell_type": "code",
     "collapsed": false,
     "input": [
      "stream"
     ],
     "language": "python",
     "metadata": {},
     "outputs": [
      {
       "output_type": "pyout",
       "prompt_number": 5,
       "text": [
        "Stream[stream_id=6493773998180952766, targets={'oo': 'NUMERIC', 'type': 'CATEGORIC'}, endpoint=http://api.featurestream.io/api]"
       ]
      }
     ],
     "prompt_number": 5
    },
    {
     "cell_type": "markdown",
     "metadata": {},
     "source": [
      "A stream is created by calling `start_stream(targets)` where `targets` is a map of target names to their types, either CATEGORIC or NUMERIC at present. Each stream is uniquely identified by its `stream_id`. If you close your python console or lose the stream handle, you can call `get_stream(stream_id)` to retrieve the stream object."
     ]
    },
    {
     "cell_type": "code",
     "collapsed": false,
     "input": [
      "stream.stream_id"
     ],
     "language": "python",
     "metadata": {},
     "outputs": [
      {
       "output_type": "pyout",
       "prompt_number": 6,
       "text": [
        "6493773998180952766L"
       ]
      }
     ],
     "prompt_number": 6
    },
    {
     "cell_type": "markdown",
     "metadata": {},
     "source": [
      "We're going to load some events from a CSV file. Import the `featurestream.csv` library \n",
      "and get an iterator of events from a csv file (see below for more details on this):"
     ]
    },
    {
     "cell_type": "code",
     "collapsed": false,
     "input": [
      "import featurestream.csv as csv\n",
      "events = csv.csv_iterator('../resources/KDDTrain_1Percent.csv')"
     ],
     "language": "python",
     "metadata": {},
     "outputs": [
      {
       "output_type": "stream",
       "stream": "stdout",
       "text": [
        "guessing types..\n",
        "types= [('a', 'NUMERIC'), ('protocol', 'CATEGORIC'), ('datatype', 'CATEGORIC'), ('d', 'CATEGORIC'), ('e', 'NUMERIC'), ('f', 'NUMERIC'), ('g', 'NUMERIC'), ('h', 'NUMERIC'), ('i', 'NUMERIC'), ('j', 'NUMERIC'), ('k', 'NUMERIC'), ('l', 'NUMERIC'), ('m', 'NUMERIC'), ('n', 'NUMERIC'), ('o', 'NUMERIC'), ('p', 'NUMERIC'), ('q', 'NUMERIC'), ('r', 'NUMERIC'), ('s', 'NUMERIC'), ('t', 'NUMERIC'), ('u', 'NUMERIC'), ('v', 'NUMERIC'), ('w', 'NUMERIC'), ('x', 'NUMERIC'), ('y', 'NUMERIC'), ('z', 'NUMERIC'), ('aa', 'NUMERIC'), ('bb', 'NUMERIC'), ('cc', 'NUMERIC'), ('dd', 'NUMERIC'), ('ee', 'NUMERIC'), ('ff', 'NUMERIC'), ('gg', 'NUMERIC'), ('hh', 'NUMERIC'), ('ii', 'NUMERIC'), ('jj', 'NUMERIC'), ('kk', 'NUMERIC'), ('ll', 'NUMERIC'), ('mm', 'NUMERIC'), ('nn', 'NUMERIC'), ('oo', 'NUMERIC'), ('type', 'CATEGORIC')]\n"
       ]
      }
     ],
     "prompt_number": 7
    },
    {
     "cell_type": "markdown",
     "metadata": {},
     "source": [
      "The parser automatically tries to infer types based on a sample of the file; in this case we don't want to change its type inference; see later for how to do this and more advanced use. If the CSV file has no header, the parser creates variable names `0,1,2,3,...` according to the column numbers.\n",
      "Look at the first event; we'll use this later."
     ]
    },
    {
     "cell_type": "code",
     "collapsed": false,
     "input": [
      "e = events.next()\n",
      "e"
     ],
     "language": "python",
     "metadata": {},
     "outputs": [
      {
       "output_type": "pyout",
       "prompt_number": 8,
       "text": [
        "{'a': 0.0,\n",
        " 'aa': 0.0,\n",
        " 'bb': 0.0,\n",
        " 'cc': 1.0,\n",
        " 'd': 'SF',\n",
        " 'datatype': 'ftp_data',\n",
        " 'dd': 0.0,\n",
        " 'e': 491.0,\n",
        " 'ee': 0.0,\n",
        " 'f': 0.0,\n",
        " 'ff': 150.0,\n",
        " 'g': 0.0,\n",
        " 'gg': 25.0,\n",
        " 'h': 0.0,\n",
        " 'hh': 0.17,\n",
        " 'i': 0.0,\n",
        " 'ii': 0.03,\n",
        " 'j': 0.0,\n",
        " 'jj': 0.17,\n",
        " 'k': 0.0,\n",
        " 'kk': 0.0,\n",
        " 'l': 0.0,\n",
        " 'll': 0.0,\n",
        " 'm': 0.0,\n",
        " 'mm': 0.0,\n",
        " 'n': 0.0,\n",
        " 'nn': 0.05,\n",
        " 'o': 0.0,\n",
        " 'oo': 0.0,\n",
        " 'p': 0.0,\n",
        " 'protocol': 'tcp',\n",
        " 'q': 0.0,\n",
        " 'r': 0.0,\n",
        " 's': 0.0,\n",
        " 't': 0.0,\n",
        " 'type': 'normal',\n",
        " 'u': 0.0,\n",
        " 'v': 0.0,\n",
        " 'w': 2.0,\n",
        " 'x': 2.0,\n",
        " 'y': 0.0,\n",
        " 'z': 0.0}"
       ]
      }
     ],
     "prompt_number": 8
    },
    {
     "cell_type": "markdown",
     "metadata": {},
     "source": [
      "Events are simple JSON maps `{'name1':value1, ..., 'name_k':value_k}`. If `value` is enclosed in quotes then it is treated as a categoric type, otherwise it is treated as numeric type. For example `event={'some_numeric_val':12.1, 'some_categoric_val':'True', 'numeric_as_categoric':'12.1'}`. You can also specify explicit types if you want; see `api.py` for further documentation. The engine also supports other types including textual and datetime - TODO describe this.\n",
      "Feed the iterator asynchronously into the stream:"
     ]
    },
    {
     "cell_type": "code",
     "collapsed": false,
     "input": [
      "t=stream.train_iterator(events, batch=500)"
     ],
     "language": "python",
     "metadata": {},
     "outputs": [],
     "prompt_number": 9
    },
    {
     "cell_type": "markdown",
     "metadata": {},
     "source": [
      "The object `t` gives you access to the training process (see below for more details):\n",
      "\n",
      "Wait for the stream to consume some of the events (there are 2500 events in the file, wait until at least 1500 are done!) (almost all the time is spent transferring data, particularly since the servers are in the `us-east-1` AWS region currently).\n",
      "Examine the progress:"
     ]
    },
    {
     "cell_type": "code",
     "collapsed": false,
     "input": [
      "t"
     ],
     "language": "python",
     "metadata": {},
     "outputs": [
      {
       "output_type": "pyout",
       "prompt_number": 12,
       "text": [
        "AsyncTrainer[stream_id=6493773998180952766, is_running=False, train_count=2499, error_count=0, batch=500]"
       ]
      }
     ],
     "prompt_number": 12
    },
    {
     "cell_type": "markdown",
     "metadata": {},
     "source": [
      "See if it predicts one of the original events correctly:"
     ]
    },
    {
     "cell_type": "code",
     "collapsed": false,
     "input": [
      "stream.predict(e)"
     ],
     "language": "python",
     "metadata": {},
     "outputs": [
      {
       "output_type": "pyout",
       "prompt_number": 13,
       "text": [
        "{u'oo': 0.02087935645642979, u'type': u'normal'}"
       ]
      }
     ],
     "prompt_number": 13
    },
    {
     "cell_type": "markdown",
     "metadata": {},
     "source": [
      "This returns a simple prediction for each target.\n",
      "You can also get estimated probabilities for categoric targets by using `predict_full`:"
     ]
    },
    {
     "cell_type": "code",
     "collapsed": false,
     "input": [
      "stream.predict_full(e)"
     ],
     "language": "python",
     "metadata": {},
     "outputs": [
      {
       "output_type": "pyout",
       "prompt_number": 14,
       "text": [
        "{u'oo': 0.02087935645642979,\n",
        " u'type': {u'anomaly': 0.2471042471042471, u'normal': 0.752895752895753}}"
       ]
      }
     ],
     "prompt_number": 14
    },
    {
     "cell_type": "markdown",
     "metadata": {},
     "source": [
      "Featurestream's engine is very good at handling missing values, or noisy data. In particular, for missing values, it can 'integrate them out' to get predictions. For example, the following (predicting with the empty event) returns the distribution of the entire stream:"
     ]
    },
    {
     "cell_type": "code",
     "collapsed": false,
     "input": [
      "stream.predict_full({})"
     ],
     "language": "python",
     "metadata": {},
     "outputs": [
      {
       "output_type": "pyout",
       "prompt_number": 15,
       "text": [
        "{u'oo': 0.11943373720784911,\n",
        " u'type': {u'anomaly': 0.4753298209850845, u'normal': 0.5246701790149155}}"
       ]
      }
     ],
     "prompt_number": 15
    },
    {
     "cell_type": "markdown",
     "metadata": {},
     "source": [
      "So, about 47.7% of events had variable 'type' as 'anomaly' and 52.3% as 'normal', and the average value of variable 'oo' was 0.12. In the future, we can allow returning more full values for numeric targets, including distributions. The ability to leave out missing values makes featurestream very powerful for handling a wide range of real-life data sources."
     ]
    },
    {
     "cell_type": "markdown",
     "metadata": {},
     "source": [
      "Examine which variables are most related to a target variable:"
     ]
    },
    {
     "cell_type": "code",
     "collapsed": false,
     "input": [
      "stream.related_fields('type')"
     ],
     "language": "python",
     "metadata": {},
     "outputs": [
      {
       "output_type": "pyout",
       "prompt_number": 16,
       "text": [
        "[(u'datatype', 0.4320147277958317),\n",
        " (u'd', 0.18490192489311813),\n",
        " (u'protocol', 0.17570247598323266),\n",
        " (u'e', 0.11149732035585252),\n",
        " (u'f', 0.04208459525085361)]"
       ]
      }
     ],
     "prompt_number": 16
    },
    {
     "cell_type": "markdown",
     "metadata": {},
     "source": [
      "This returns a distribution over all variables, summing to 1, which describes how strongly each variable contributes to predicting the value of the target variable. This allows you to understand more about the structure of your data. By default, it returns the top 5 variables but you can change this by passing the argument `k=10` (for the top 10) or `k=-1` (for all fields).\n",
      "\n",
      "Examine the stream statistics for one of the targets:"
     ]
    },
    {
     "cell_type": "code",
     "collapsed": false,
     "input": [
      "stream.get_stats()['type']"
     ],
     "language": "python",
     "metadata": {},
     "outputs": [
      {
       "output_type": "pyout",
       "prompt_number": 17,
       "text": [
        "{u'accuracy': 0.8763505402160864,\n",
        " u'auc': -1.0,\n",
        " u'confusion': {u'anomaly': {u'anomaly': 1003, u'normal': 190},\n",
        "  u'normal': {u'anomaly': 119, u'normal': 1187}},\n",
        " u'exp_accuracy': [0.876350540216087,\n",
        "  0.9217919353489992,\n",
        "  0.9302533435210141,\n",
        "  0.9354980808769058,\n",
        "  0.9494773650225677],\n",
        " u'n_correct': 2190.0,\n",
        " u'n_models': 30,\n",
        " u'n_total': 2499.0,\n",
        " u'scores': {u'anomaly': {u'F1': 0.8665226781857452,\n",
        "   u'precision': 0.8407376362112322,\n",
        "   u'recall': 0.8939393939393939},\n",
        "  u'normal': {u'F1': 0.8848304137159897,\n",
        "   u'precision': 0.9088820826952527,\n",
        "   u'recall': 0.8620188816267248}},\n",
        " u'type': u'classification'}"
       ]
      }
     ],
     "prompt_number": 17
    },
    {
     "cell_type": "markdown",
     "metadata": {},
     "source": [
      "The section below about stats explains what these statistics represent. Featurestream calculates these statistics without you having to do k-fold cross-validation, training/test set splits, and so on. Furthermore, they are computed in near real-time as your stream is ingested.\n",
      "\n",
      "You can also examine the stats for the numeric target:"
     ]
    },
    {
     "cell_type": "code",
     "collapsed": false,
     "input": [
      "stream.get_stats()['oo']"
     ],
     "language": "python",
     "metadata": {},
     "outputs": [
      {
       "output_type": "pyout",
       "prompt_number": 18,
       "text": [
        "{u'correlation_coefficient': 0.814816559793201,\n",
        " u'exp_rmse': [0.08482395539811344,\n",
        "  0.06291788749505603,\n",
        "  0.05455560755096009,\n",
        "  0.0520033046822743,\n",
        "  0.04739173753105637],\n",
        " u'mean_abs_error': 0.08482395539811356,\n",
        " u'n_models': 30,\n",
        " u'n_predictable': 2498,\n",
        " u'n_total': 2499,\n",
        " u'n_unpredictable': 1,\n",
        " u'rmse': 0.18714524384215298,\n",
        " u'type': u'regression'}"
       ]
      }
     ],
     "prompt_number": 18
    },
    {
     "cell_type": "markdown",
     "metadata": {},
     "source": [
      "How did we do so far?"
     ]
    },
    {
     "cell_type": "code",
     "collapsed": false,
     "input": [
      "stream.get_stats()['type']['accuracy']"
     ],
     "language": "python",
     "metadata": {},
     "outputs": [
      {
       "output_type": "pyout",
       "prompt_number": 19,
       "text": [
        "0.8763505402160864"
       ]
      }
     ],
     "prompt_number": 19
    },
    {
     "cell_type": "markdown",
     "metadata": {},
     "source": [
      "Pretty good, we hope!\n",
      "\n",
      "It's a good idea to close the stream once you're done:"
     ]
    },
    {
     "cell_type": "code",
     "collapsed": false,
     "input": [
      "stream.close()"
     ],
     "language": "python",
     "metadata": {},
     "outputs": [
      {
       "output_type": "pyout",
       "prompt_number": 20,
       "text": [
        "True"
       ]
      }
     ],
     "prompt_number": 20
    },
    {
     "cell_type": "markdown",
     "metadata": {},
     "source": [
      "We hope this example gives you a flavor of what featurestream.io can do for you. You've just scratched the surface! See below for some more details about the calls and objects used above, and more information. We will also be updating this document as we improve the service and add more functionality. We'd love to get some more use case examples. Please say [hello@featurestream.io](hello@featurestream.io)"
     ]
    }
   ],
   "metadata": {}
  }
 ]
}