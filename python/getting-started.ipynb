{
 "metadata": {
  "name": "getting-started"
 },
 "nbformat": 3,
 "nbformat_minor": 0,
 "worksheets": [
  {
   "cells": [
    {
     "cell_type": "markdown",
     "metadata": {},
     "source": [
      "# Getting started\n",
      "The following example opens a stream, asynchronously adds some events from a csv file, and retrieves a prediction.\n",
      "Import the library and give it your access key:"
     ]
    },
    {
     "cell_type": "code",
     "collapsed": true,
     "input": [
      "import featurestream as fs\n",
      "fs.set_access('YOUR_ACCESS_KEY')\n",
      "# do a quick health check on the service\n",
      "print 'healthy=',fs.check_health()"
     ],
     "language": "python",
     "metadata": {},
     "outputs": []
    },
    {
     "cell_type": "markdown",
     "metadata": {},
     "source": [
      "Start a new stream:"
     ]
    },
    {
     "cell_type": "code",
     "collapsed": false,
     "input": [
      "stream = fs.start_stream(targets={'type':'CATEGORIC','oo':'NUMERIC'})"
     ],
     "language": "python",
     "metadata": {},
     "outputs": []
    },
    {
     "cell_type": "markdown",
     "metadata": {},
     "source": [
      "This should try to create a stream with two targets, one for column `type` with categoric type and one for column `e` with numeric type. Check that the stream was created successfully:"
     ]
    },
    {
     "cell_type": "code",
     "collapsed": false,
     "input": [
      "stream"
     ],
     "language": "python",
     "metadata": {},
     "outputs": []
    },
    {
     "cell_type": "markdown",
     "metadata": {},
     "source": [
      "A stream is created by calling `start_stream(targets)` where `targets` is a map of target names to their types, either CATEGORIC or NUMERIC at present. Each stream is uniquely identified by its `stream_id`. If you close your python console or lose the stream handle, you can call `get_stream(stream_id)` to retrieve the stream object."
     ]
    },
    {
     "cell_type": "code",
     "collapsed": false,
     "input": [
      "stream.stream_id"
     ],
     "language": "python",
     "metadata": {},
     "outputs": []
    },
    {
     "cell_type": "markdown",
     "metadata": {},
     "source": [
      "We're going to load some events from a CSV file. Import the `featurestream.csv` library \n",
      "and get an iterator of events from a csv file (see below for more details on this):"
     ]
    },
    {
     "cell_type": "code",
     "collapsed": false,
     "input": [
      "import featurestream.csv as csv\n",
      "events = csv.csv_iterator('../resources/KDDTrain_1Percent.csv')"
     ],
     "language": "python",
     "metadata": {},
     "outputs": []
    },
    {
     "cell_type": "markdown",
     "metadata": {},
     "source": [
      "The parser automatically tries to infer types based on a sample of the file; in this case we don't want to change its type inference; see later for how to do this and more advanced use. If the CSV file has no header, the parser creates variable names `0,1,2,3,...` according to the column numbers.\n",
      "Look at the first event; we'll use this later."
     ]
    },
    {
     "cell_type": "code",
     "collapsed": false,
     "input": [
      "e = events.next()\n",
      "e"
     ],
     "language": "python",
     "metadata": {},
     "outputs": []
    },
    {
     "cell_type": "markdown",
     "metadata": {},
     "source": [
      "Events are simple JSON maps `{'name1':value1, ..., 'name_k':value_k}`. If `value` is enclosed in quotes then it is treated as a categoric type, otherwise it is treated as numeric type. For example `event={'some_numeric_val':12.1, 'some_categoric_val':'True', 'numeric_as_categoric':'12.1'}`. You can also specify explicit types if you want; see `api.py` for further documentation. The engine also supports other types including textual and datetime - TODO describe this.\n",
      "Feed the iterator asynchronously into the stream:"
     ]
    },
    {
     "cell_type": "code",
     "collapsed": false,
     "input": [
      "t=stream.train_iterator(events, batch=200)"
     ],
     "language": "python",
     "metadata": {},
     "outputs": []
    },
    {
     "cell_type": "markdown",
     "metadata": {},
     "source": [
      "The object `t` gives you access to the training process (see below for more details):\n",
      "\n",
      "Wait for the stream to consume some of the events (there are 2500 events in the file, wait until at least 1500 are done!) (almost all the time is spent transferring data, particularly since the servers are in the `us-east-1` AWS region currently).\n",
      "Examine the progress:"
     ]
    },
    {
     "cell_type": "code",
     "collapsed": false,
     "input": [
      "t"
     ],
     "language": "python",
     "metadata": {},
     "outputs": []
    },
    {
     "cell_type": "markdown",
     "metadata": {},
     "source": [
      "See if it predicts one of the original events correctly:"
     ]
    },
    {
     "cell_type": "code",
     "collapsed": false,
     "input": [
      "stream.predict(e)"
     ],
     "language": "python",
     "metadata": {},
     "outputs": []
    },
    {
     "cell_type": "markdown",
     "metadata": {},
     "source": [
      "This returns a simple prediction for each target.\n",
      "You can also get estimated probabilities for categoric targets by using `predict_full`:"
     ]
    },
    {
     "cell_type": "code",
     "collapsed": false,
     "input": [
      "stream.predict_full(e)"
     ],
     "language": "python",
     "metadata": {},
     "outputs": []
    },
    {
     "cell_type": "markdown",
     "metadata": {},
     "source": [
      "Featurestream's engine is very good at handling missing values, or noisy data. In particular, for missing values, it can 'integrate them out' to get predictions. For example, the following (predicting with the empty event) returns the distribution of the entire stream:"
     ]
    },
    {
     "cell_type": "code",
     "collapsed": false,
     "input": [
      "stream.predict_full({})"
     ],
     "language": "python",
     "metadata": {},
     "outputs": []
    },
    {
     "cell_type": "markdown",
     "metadata": {},
     "source": [
      "So, about 47.7% of events had variable 'type' as 'anomaly' and 52.3% as 'normal', and the average value of variable 'oo' was 0.12. In the future, we can allow returning more full values for numeric targets, including distributions. The ability to leave out missing values makes featurestream very powerful for handling a wide range of real-life data sources."
     ]
    },
    {
     "cell_type": "markdown",
     "metadata": {},
     "source": [
      "Examine which variables are most related to a target variable:"
     ]
    },
    {
     "cell_type": "code",
     "collapsed": false,
     "input": [
      "stream.related_fields('type')"
     ],
     "language": "python",
     "metadata": {},
     "outputs": []
    },
    {
     "cell_type": "markdown",
     "metadata": {},
     "source": [
      "This returns a distribution over all variables, summing to 1, which describes how strongly each variable contributes to predicting the value of the target variable. This allows you to understand more about the structure of your data. By default, it returns the top 5 variables but you can change this by passing the argument `k=10` (for the top 10) or `k=-1` (for all fields).\n",
      "\n",
      "Examine the stream statistics for one of the targets:"
     ]
    },
    {
     "cell_type": "code",
     "collapsed": false,
     "input": [
      "stream.get_stats()['type']"
     ],
     "language": "python",
     "metadata": {},
     "outputs": []
    },
    {
     "cell_type": "markdown",
     "metadata": {},
     "source": [
      "The section below about stats explains what these statistics represent. Featurestream calculates these statistics without you having to do k-fold cross-validation, training/test set splits, and so on. Furthermore, they are computed in near real-time as your stream is ingested.\n",
      "\n",
      "You can also examine the stats for the numeric target:"
     ]
    },
    {
     "cell_type": "code",
     "collapsed": false,
     "input": [
      "stream.get_stats()['oo']"
     ],
     "language": "python",
     "metadata": {},
     "outputs": []
    },
    {
     "cell_type": "markdown",
     "metadata": {},
     "source": [
      "How did we do so far?"
     ]
    },
    {
     "cell_type": "code",
     "collapsed": false,
     "input": [
      "stream.get_stats()['type']['accuracy']"
     ],
     "language": "python",
     "metadata": {},
     "outputs": []
    },
    {
     "cell_type": "markdown",
     "metadata": {},
     "source": [
      "Pretty good, we hope!\n",
      "\n",
      "It's a good idea to close the stream once you're done:"
     ]
    },
    {
     "cell_type": "code",
     "collapsed": false,
     "input": [
      "stream.close()"
     ],
     "language": "python",
     "metadata": {},
     "outputs": []
    },
    {
     "cell_type": "markdown",
     "metadata": {},
     "source": [
      "We hope this example gives you a flavor of what featurestream.io can do for you. You've just scratched the surface! See below for some more details about the calls and objects used above, and more information. We will also be updating this document as we improve the service and add more functionality. We'd love to get some more use case examples. Please say [hello@featurestream.io](hello@featurestream.io)"
     ]
    }
   ],
   "metadata": {}
  }
 ]
}